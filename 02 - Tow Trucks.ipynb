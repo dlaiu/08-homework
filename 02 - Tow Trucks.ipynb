{
 "cells": [
  {
   "cell_type": "markdown",
   "metadata": {},
   "source": [
    "# Texas Tow Trucks\n",
    "\n",
    "We're going to scrape some [tow trucks in Texas](https://www.tdlr.texas.gov/tools_search/). "
   ]
  },
  {
   "cell_type": "markdown",
   "metadata": {},
   "source": [
    "# Part One: Building a company list\n",
    "\n",
    "Search for businesses with the word **WRECK** in their names.\n",
    "\n",
    "* **Tip:** Start by scraping the first page to a dataframe, then expand to a loop that combines all of the pages. Finally combine all of the dataframes with `pd.concat`. You might find [this page helpful](https://jonathansoma.com/everything/scraping/pagination/), although the \"On an interactive site\" example uses Selenium instead of Playwright. You should be able to figure out how to change it!\n",
    "* **Tip:** You can't just do a `try`/`except`, because even if you ask for page 99999 it will always give you the last page again! Watch out that you don't get stuck in an infinite loop!"
   ]
  },
  {
   "cell_type": "code",
   "execution_count": 3,
   "metadata": {},
   "outputs": [],
   "source": [
    "from playwright.async_api import async_playwright"
   ]
  },
  {
   "cell_type": "code",
   "execution_count": 4,
   "metadata": {},
   "outputs": [],
   "source": [
    "playwright = await async_playwright().start()\n",
    "browser = await playwright.chromium.launch(headless=False)\n",
    "page = await browser.new_page()"
   ]
  },
  {
   "cell_type": "code",
   "execution_count": 12,
   "metadata": {},
   "outputs": [
    {
     "data": {
      "text/plain": [
       "<Response url='https://www.tdlr.texas.gov/tools_search/' request=<Request url='https://www.tdlr.texas.gov/tools_search/' method='GET'>>"
      ]
     },
     "execution_count": 12,
     "metadata": {},
     "output_type": "execute_result"
    }
   ],
   "source": [
    "await page.goto('https://www.tdlr.texas.gov/tools_search/')"
   ]
  },
  {
   "cell_type": "code",
   "execution_count": 17,
   "metadata": {},
   "outputs": [],
   "source": [
    "await page.locator(\"#namedata\").fill('Wreck')"
   ]
  },
  {
   "cell_type": "code",
   "execution_count": 18,
   "metadata": {},
   "outputs": [
    {
     "data": {
      "text/plain": [
       "['DBA']"
      ]
     },
     "execution_count": 18,
     "metadata": {},
     "output_type": "execute_result"
    }
   ],
   "source": [
    "await page.locator(\"#name_carrier_type\").select_option(value='DBA')"
   ]
  },
  {
   "cell_type": "code",
   "execution_count": 19,
   "metadata": {},
   "outputs": [],
   "source": [
    "await page.locator(\"#namebutton\").click()"
   ]
  },
  {
   "cell_type": "code",
   "execution_count": 20,
   "metadata": {},
   "outputs": [],
   "source": [
    "await page.locator(\"#submit3\").click()"
   ]
  },
  {
   "cell_type": "code",
   "execution_count": 21,
   "metadata": {},
   "outputs": [],
   "source": [
    "html = await page.content()"
   ]
  },
  {
   "cell_type": "code",
   "execution_count": 28,
   "metadata": {},
   "outputs": [],
   "source": [
    "import pandas as pd\n",
    "from bs4 import BeautifulSoup"
   ]
  },
  {
   "cell_type": "code",
   "execution_count": 25,
   "metadata": {},
   "outputs": [
    {
     "name": "stderr",
     "output_type": "stream",
     "text": [
      "/var/folders/st/3g_y2gzx2qlcw80sfz6hkjk00000gn/T/ipykernel_48122/2568698311.py:1: FutureWarning: Passing literal html to 'read_html' is deprecated and will be removed in a future version. To read from a literal string, wrap it in a 'StringIO' object.\n",
      "  tables = pd.read_html(html, index_col=None, header=0)\n"
     ]
    },
    {
     "data": {
      "text/html": [
       "<div>\n",
       "<style scoped>\n",
       "    .dataframe tbody tr th:only-of-type {\n",
       "        vertical-align: middle;\n",
       "    }\n",
       "\n",
       "    .dataframe tbody tr th {\n",
       "        vertical-align: top;\n",
       "    }\n",
       "\n",
       "    .dataframe thead th {\n",
       "        text-align: right;\n",
       "    }\n",
       "</style>\n",
       "<table border=\"1\" class=\"dataframe\">\n",
       "  <thead>\n",
       "    <tr style=\"text-align: right;\">\n",
       "      <th></th>\n",
       "      <th>Customer</th>\n",
       "      <th>DBA Name</th>\n",
       "      <th>TDLR Number</th>\n",
       "      <th>City</th>\n",
       "      <th>State</th>\n",
       "      <th>Zip code</th>\n",
       "    </tr>\n",
       "  </thead>\n",
       "  <tbody>\n",
       "    <tr>\n",
       "      <th>0</th>\n",
       "      <td>271 VENTURES LLC</td>\n",
       "      <td>271 WRECKERS</td>\n",
       "      <td>006428802C</td>\n",
       "      <td>GLADEWATER</td>\n",
       "      <td>TX</td>\n",
       "      <td>75647</td>\n",
       "    </tr>\n",
       "    <tr>\n",
       "      <th>1</th>\n",
       "      <td>271 VENTURES LLC</td>\n",
       "      <td>271 WRECKERS</td>\n",
       "      <td>0642881VSF</td>\n",
       "      <td>GLADEWATER</td>\n",
       "      <td>TX</td>\n",
       "      <td>75647</td>\n",
       "    </tr>\n",
       "    <tr>\n",
       "      <th>2</th>\n",
       "      <td>290 WRECKER SERVICE INC</td>\n",
       "      <td>HWY 290 WRECKER</td>\n",
       "      <td>0656637VSF</td>\n",
       "      <td>HOCKLEY</td>\n",
       "      <td>TX</td>\n",
       "      <td>77447</td>\n",
       "    </tr>\n",
       "    <tr>\n",
       "      <th>3</th>\n",
       "      <td>290 WRECKER SERVICE INC.</td>\n",
       "      <td>HWY 290 WRECKER</td>\n",
       "      <td>0650616VSF</td>\n",
       "      <td>HOCKLEY</td>\n",
       "      <td>TX</td>\n",
       "      <td>77447</td>\n",
       "    </tr>\n",
       "    <tr>\n",
       "      <th>4</th>\n",
       "      <td>290 WRECKER SERVICE, INC.</td>\n",
       "      <td>HWY 290 WRECKER SERVICE</td>\n",
       "      <td>0657944VSF (Insurance not applied !)</td>\n",
       "      <td>HOCKLEY</td>\n",
       "      <td>TX</td>\n",
       "      <td>77447</td>\n",
       "    </tr>\n",
       "    <tr>\n",
       "      <th>5</th>\n",
       "      <td>290 WRECKER SERVICE, INC.</td>\n",
       "      <td>HWY 290 WRECKER</td>\n",
       "      <td>0545753VSF</td>\n",
       "      <td>HOCKLEY</td>\n",
       "      <td>TX</td>\n",
       "      <td>77447</td>\n",
       "    </tr>\n",
       "    <tr>\n",
       "      <th>6</th>\n",
       "      <td>290 WRECKER SERVICE, INC.</td>\n",
       "      <td>HWY 290 WRECKER</td>\n",
       "      <td>005697854C</td>\n",
       "      <td>WALLER</td>\n",
       "      <td>TX</td>\n",
       "      <td>77484</td>\n",
       "    </tr>\n",
       "    <tr>\n",
       "      <th>7</th>\n",
       "      <td>4A'S ENTERPRISES, INC</td>\n",
       "      <td>ERIKA'S WRECKER SERVICE</td>\n",
       "      <td>0606250VSF (Insurance not applied !)</td>\n",
       "      <td>CORPUS CHRISTI</td>\n",
       "      <td>TX</td>\n",
       "      <td>78427</td>\n",
       "    </tr>\n",
       "    <tr>\n",
       "      <th>8</th>\n",
       "      <td>4A'S ENTERPRISES, INC.</td>\n",
       "      <td>ERIKA'S WRECKER SERVICE</td>\n",
       "      <td>006061621C</td>\n",
       "      <td>CORPUS CHRISTI</td>\n",
       "      <td>TX</td>\n",
       "      <td>78247</td>\n",
       "    </tr>\n",
       "    <tr>\n",
       "      <th>9</th>\n",
       "      <td>A &amp; H WRECKER SERVICE LLC</td>\n",
       "      <td>A&amp;H WRECKER SERVICE</td>\n",
       "      <td>006543241C (Expired!)</td>\n",
       "      <td>SOUTH HOUSTON</td>\n",
       "      <td>TX</td>\n",
       "      <td>77587</td>\n",
       "    </tr>\n",
       "    <tr>\n",
       "      <th>10</th>\n",
       "      <td>A &amp; L DELGADO'S CORPORATION</td>\n",
       "      <td>DELGADO'S WRECKER SERVICE LOT NO 2</td>\n",
       "      <td>0643569VSF</td>\n",
       "      <td>EAGLE LAKE</td>\n",
       "      <td>TX</td>\n",
       "      <td>77434</td>\n",
       "    </tr>\n",
       "    <tr>\n",
       "      <th>11</th>\n",
       "      <td>A &amp; L DELGADO'S CORPORATION</td>\n",
       "      <td>DELGADO'S WRECKER SERVICE</td>\n",
       "      <td>005056941C</td>\n",
       "      <td>EAGLE LAKE</td>\n",
       "      <td>TX</td>\n",
       "      <td>77434</td>\n",
       "    </tr>\n",
       "    <tr>\n",
       "      <th>12</th>\n",
       "      <td>A &amp; L DELGADO'S CORPORATION</td>\n",
       "      <td>DELGADO'S WRECKER SERVICE</td>\n",
       "      <td>0515235VSF</td>\n",
       "      <td>EAGLE LAKE</td>\n",
       "      <td>TX</td>\n",
       "      <td>77434</td>\n",
       "    </tr>\n",
       "    <tr>\n",
       "      <th>13</th>\n",
       "      <td>A &amp; S WRECKER SERVICE</td>\n",
       "      <td>A &amp; S WRECKER SERVICE</td>\n",
       "      <td>006598236C</td>\n",
       "      <td>EL CAMPO</td>\n",
       "      <td>TX</td>\n",
       "      <td>77437</td>\n",
       "    </tr>\n",
       "    <tr>\n",
       "      <th>14</th>\n",
       "      <td>A WRECKER SERVICE,LLC</td>\n",
       "      <td>A WRECKER SERVICE</td>\n",
       "      <td>006060211C</td>\n",
       "      <td>STAFFORD</td>\n",
       "      <td>TX</td>\n",
       "      <td>77477</td>\n",
       "    </tr>\n",
       "    <tr>\n",
       "      <th>15</th>\n",
       "      <td>ABILENE AUTO WRECKING</td>\n",
       "      <td>DBA. ABILENE AUTO WRECKING</td>\n",
       "      <td>005059531C</td>\n",
       "      <td>ABILENE</td>\n",
       "      <td>TX</td>\n",
       "      <td>79601</td>\n",
       "    </tr>\n",
       "    <tr>\n",
       "      <th>16</th>\n",
       "      <td>ACE OF GALVESTON WRECKER SERVICE</td>\n",
       "      <td>ACE OF GALVESTON WRECKER SERVICE</td>\n",
       "      <td>0650631VSF (Expired!)</td>\n",
       "      <td>GALVESTON</td>\n",
       "      <td>TX</td>\n",
       "      <td>77552</td>\n",
       "    </tr>\n",
       "    <tr>\n",
       "      <th>17</th>\n",
       "      <td>ACE WRECKER SERVICE INC</td>\n",
       "      <td>RAY'S WRECKER SERVICE</td>\n",
       "      <td>005820848C</td>\n",
       "      <td>VIDOR</td>\n",
       "      <td>TX</td>\n",
       "      <td>77662</td>\n",
       "    </tr>\n",
       "    <tr>\n",
       "      <th>18</th>\n",
       "      <td>ACE WRECKER SERVICE, INC.</td>\n",
       "      <td>RAY'S WRECKER SERVICE</td>\n",
       "      <td>0582200VSF</td>\n",
       "      <td>VIDOR</td>\n",
       "      <td>TX</td>\n",
       "      <td>77662</td>\n",
       "    </tr>\n",
       "    <tr>\n",
       "      <th>19</th>\n",
       "      <td>AHMAD BUSTAMI</td>\n",
       "      <td>AMIR WRECKER SERVICE</td>\n",
       "      <td>006558603C (Expired!)</td>\n",
       "      <td>CYPRESS</td>\n",
       "      <td>TX</td>\n",
       "      <td>77429</td>\n",
       "    </tr>\n",
       "  </tbody>\n",
       "</table>\n",
       "</div>"
      ],
      "text/plain": [
       "                            Customer                            DBA Name  \\\n",
       "0                   271 VENTURES LLC                        271 WRECKERS   \n",
       "1                   271 VENTURES LLC                        271 WRECKERS   \n",
       "2            290 WRECKER SERVICE INC                     HWY 290 WRECKER   \n",
       "3           290 WRECKER SERVICE INC.                     HWY 290 WRECKER   \n",
       "4          290 WRECKER SERVICE, INC.             HWY 290 WRECKER SERVICE   \n",
       "5          290 WRECKER SERVICE, INC.                     HWY 290 WRECKER   \n",
       "6          290 WRECKER SERVICE, INC.                     HWY 290 WRECKER   \n",
       "7              4A'S ENTERPRISES, INC             ERIKA'S WRECKER SERVICE   \n",
       "8             4A'S ENTERPRISES, INC.             ERIKA'S WRECKER SERVICE   \n",
       "9          A & H WRECKER SERVICE LLC                 A&H WRECKER SERVICE   \n",
       "10       A & L DELGADO'S CORPORATION  DELGADO'S WRECKER SERVICE LOT NO 2   \n",
       "11       A & L DELGADO'S CORPORATION           DELGADO'S WRECKER SERVICE   \n",
       "12       A & L DELGADO'S CORPORATION           DELGADO'S WRECKER SERVICE   \n",
       "13             A & S WRECKER SERVICE               A & S WRECKER SERVICE   \n",
       "14             A WRECKER SERVICE,LLC                   A WRECKER SERVICE   \n",
       "15             ABILENE AUTO WRECKING          DBA. ABILENE AUTO WRECKING   \n",
       "16  ACE OF GALVESTON WRECKER SERVICE    ACE OF GALVESTON WRECKER SERVICE   \n",
       "17           ACE WRECKER SERVICE INC               RAY'S WRECKER SERVICE   \n",
       "18         ACE WRECKER SERVICE, INC.               RAY'S WRECKER SERVICE   \n",
       "19                     AHMAD BUSTAMI                AMIR WRECKER SERVICE   \n",
       "\n",
       "                             TDLR Number            City State  Zip code  \n",
       "0                             006428802C      GLADEWATER    TX     75647  \n",
       "1                             0642881VSF      GLADEWATER    TX     75647  \n",
       "2                             0656637VSF         HOCKLEY    TX     77447  \n",
       "3                             0650616VSF         HOCKLEY    TX     77447  \n",
       "4   0657944VSF (Insurance not applied !)         HOCKLEY    TX     77447  \n",
       "5                             0545753VSF         HOCKLEY    TX     77447  \n",
       "6                             005697854C          WALLER    TX     77484  \n",
       "7   0606250VSF (Insurance not applied !)  CORPUS CHRISTI    TX     78427  \n",
       "8                             006061621C  CORPUS CHRISTI    TX     78247  \n",
       "9                  006543241C (Expired!)   SOUTH HOUSTON    TX     77587  \n",
       "10                            0643569VSF      EAGLE LAKE    TX     77434  \n",
       "11                            005056941C      EAGLE LAKE    TX     77434  \n",
       "12                            0515235VSF      EAGLE LAKE    TX     77434  \n",
       "13                            006598236C        EL CAMPO    TX     77437  \n",
       "14                            006060211C        STAFFORD    TX     77477  \n",
       "15                            005059531C         ABILENE    TX     79601  \n",
       "16                 0650631VSF (Expired!)       GALVESTON    TX     77552  \n",
       "17                            005820848C           VIDOR    TX     77662  \n",
       "18                            0582200VSF           VIDOR    TX     77662  \n",
       "19                 006558603C (Expired!)         CYPRESS    TX     77429  "
      ]
     },
     "execution_count": 25,
     "metadata": {},
     "output_type": "execute_result"
    }
   ],
   "source": [
    "tables = pd.read_html(html, index_col=None, header=0)\n",
    "tables[2]"
   ]
  },
  {
   "cell_type": "code",
   "execution_count": 26,
   "metadata": {},
   "outputs": [],
   "source": [
    "all_dfs = [tables[2]]"
   ]
  },
  {
   "cell_type": "code",
   "execution_count": 52,
   "metadata": {},
   "outputs": [
    {
     "data": {
      "text/plain": [
       "['mccs_search_process.asp?page=2&stype=name&ls_temp=Wreck&ls_carrier_type=DBA',\n",
       " 'mccs_search_process.asp?page=3&stype=name&ls_temp=Wreck&ls_carrier_type=DBA',\n",
       " 'mccs_search_process.asp?page=4&stype=name&ls_temp=Wreck&ls_carrier_type=DBA',\n",
       " 'mccs_search_process.asp?page=5&stype=name&ls_temp=Wreck&ls_carrier_type=DBA',\n",
       " 'mccs_search_process.asp?page=6&stype=name&ls_temp=Wreck&ls_carrier_type=DBA',\n",
       " 'mccs_search_process.asp?page=7&stype=name&ls_temp=Wreck&ls_carrier_type=DBA',\n",
       " 'mccs_search_process.asp?page=8&stype=name&ls_temp=Wreck&ls_carrier_type=DBA',\n",
       " 'mccs_search_process.asp?page=9&stype=name&ls_temp=Wreck&ls_carrier_type=DBA',\n",
       " 'mccs_search_process.asp?page=10&stype=name&ls_temp=Wreck&ls_carrier_type=DBA',\n",
       " 'mccs_search_process.asp?page=11&stype=name&ls_temp=Wreck&ls_carrier_type=DBA',\n",
       " 'mccs_search_process.asp?page=12&stype=name&ls_temp=Wreck&ls_carrier_type=DBA',\n",
       " 'mccs_search_process.asp?page=13&stype=name&ls_temp=Wreck&ls_carrier_type=DBA',\n",
       " 'mccs_search_process.asp?page=14&stype=name&ls_temp=Wreck&ls_carrier_type=DBA',\n",
       " 'mccs_search_process.asp?page=15&stype=name&ls_temp=Wreck&ls_carrier_type=DBA',\n",
       " 'mccs_search_process.asp?page=16&stype=name&ls_temp=Wreck&ls_carrier_type=DBA',\n",
       " 'mccs_search_process.asp?page=17&stype=name&ls_temp=Wreck&ls_carrier_type=DBA',\n",
       " 'mccs_search_process.asp?page=18&stype=name&ls_temp=Wreck&ls_carrier_type=DBA',\n",
       " 'mccs_search_process.asp?page=19&stype=name&ls_temp=Wreck&ls_carrier_type=DBA',\n",
       " 'mccs_search_process.asp?page=20&stype=name&ls_temp=Wreck&ls_carrier_type=DBA',\n",
       " 'mccs_search_process.asp?page=21&stype=name&ls_temp=Wreck&ls_carrier_type=DBA',\n",
       " 'mccs_search_process.asp?page=22&stype=name&ls_temp=Wreck&ls_carrier_type=DBA',\n",
       " 'mccs_search_process.asp?page=23&stype=name&ls_temp=Wreck&ls_carrier_type=DBA',\n",
       " 'mccs_search_process.asp?page=24&stype=name&ls_temp=Wreck&ls_carrier_type=DBA',\n",
       " 'mccs_search_process.asp?page=25&stype=name&ls_temp=Wreck&ls_carrier_type=DBA',\n",
       " 'mccs_search_process.asp?page=26&stype=name&ls_temp=Wreck&ls_carrier_type=DBA',\n",
       " 'mccs_search_process.asp?page=27&stype=name&ls_temp=Wreck&ls_carrier_type=DBA',\n",
       " 'mccs_search_process.asp?page=28&stype=name&ls_temp=Wreck&ls_carrier_type=DBA',\n",
       " 'mccs_search_process.asp?page=29&stype=name&ls_temp=Wreck&ls_carrier_type=DBA',\n",
       " 'mccs_search_process.asp?page=30&stype=name&ls_temp=Wreck&ls_carrier_type=DBA',\n",
       " 'mccs_search_process.asp?page=31&stype=name&ls_temp=Wreck&ls_carrier_type=DBA',\n",
       " 'mccs_search_process.asp?page=32&stype=name&ls_temp=Wreck&ls_carrier_type=DBA',\n",
       " 'mccs_search_process.asp?page=33&stype=name&ls_temp=Wreck&ls_carrier_type=DBA',\n",
       " 'mccs_search_process.asp?page=34&stype=name&ls_temp=Wreck&ls_carrier_type=DBA']"
      ]
     },
     "execution_count": 52,
     "metadata": {},
     "output_type": "execute_result"
    }
   ],
   "source": [
    "#get all urls\n",
    "doc = BeautifulSoup(html)\n",
    "# len(doc.select('#form1 a'))\n",
    "urls = []\n",
    "for link in doc.select('#form1 a')[21:54]:\n",
    "    temp_link = link['href'].replace('\\n', '').replace('\\t', '')\n",
    "    # print(temp_link)\n",
    "    urls.append(temp_link)\n",
    "urls"
   ]
  },
  {
   "cell_type": "code",
   "execution_count": 73,
   "metadata": {},
   "outputs": [
    {
     "name": "stdout",
     "output_type": "stream",
     "text": [
      "Scraping page 0\n",
      "https://www.tdlr.texas.gov/tools_search/mccs_search_process.asp?page=2&stype=name&ls_temp=Wreck&ls_carrier_type=DBA\n"
     ]
    },
    {
     "name": "stderr",
     "output_type": "stream",
     "text": [
      "/var/folders/st/3g_y2gzx2qlcw80sfz6hkjk00000gn/T/ipykernel_48122/1570807218.py:7: FutureWarning: Passing literal html to 'read_html' is deprecated and will be removed in a future version. To read from a literal string, wrap it in a 'StringIO' object.\n",
      "  new_tables = pd.read_html(new_html, index_col=None, header=0)\n",
      "/var/folders/st/3g_y2gzx2qlcw80sfz6hkjk00000gn/T/ipykernel_48122/1570807218.py:7: FutureWarning: Passing literal html to 'read_html' is deprecated and will be removed in a future version. To read from a literal string, wrap it in a 'StringIO' object.\n",
      "  new_tables = pd.read_html(new_html, index_col=None, header=0)\n"
     ]
    },
    {
     "name": "stdout",
     "output_type": "stream",
     "text": [
      "Scraping page 1\n",
      "https://www.tdlr.texas.gov/tools_search/mccs_search_process.asp?page=3&stype=name&ls_temp=Wreck&ls_carrier_type=DBA\n",
      "Scraping page 2\n",
      "https://www.tdlr.texas.gov/tools_search/mccs_search_process.asp?page=4&stype=name&ls_temp=Wreck&ls_carrier_type=DBA\n"
     ]
    },
    {
     "name": "stderr",
     "output_type": "stream",
     "text": [
      "/var/folders/st/3g_y2gzx2qlcw80sfz6hkjk00000gn/T/ipykernel_48122/1570807218.py:7: FutureWarning: Passing literal html to 'read_html' is deprecated and will be removed in a future version. To read from a literal string, wrap it in a 'StringIO' object.\n",
      "  new_tables = pd.read_html(new_html, index_col=None, header=0)\n",
      "/var/folders/st/3g_y2gzx2qlcw80sfz6hkjk00000gn/T/ipykernel_48122/1570807218.py:7: FutureWarning: Passing literal html to 'read_html' is deprecated and will be removed in a future version. To read from a literal string, wrap it in a 'StringIO' object.\n",
      "  new_tables = pd.read_html(new_html, index_col=None, header=0)\n"
     ]
    },
    {
     "name": "stdout",
     "output_type": "stream",
     "text": [
      "Scraping page 3\n",
      "https://www.tdlr.texas.gov/tools_search/mccs_search_process.asp?page=5&stype=name&ls_temp=Wreck&ls_carrier_type=DBA\n",
      "Scraping page 4\n",
      "https://www.tdlr.texas.gov/tools_search/mccs_search_process.asp?page=6&stype=name&ls_temp=Wreck&ls_carrier_type=DBA\n"
     ]
    },
    {
     "name": "stderr",
     "output_type": "stream",
     "text": [
      "/var/folders/st/3g_y2gzx2qlcw80sfz6hkjk00000gn/T/ipykernel_48122/1570807218.py:7: FutureWarning: Passing literal html to 'read_html' is deprecated and will be removed in a future version. To read from a literal string, wrap it in a 'StringIO' object.\n",
      "  new_tables = pd.read_html(new_html, index_col=None, header=0)\n",
      "/var/folders/st/3g_y2gzx2qlcw80sfz6hkjk00000gn/T/ipykernel_48122/1570807218.py:7: FutureWarning: Passing literal html to 'read_html' is deprecated and will be removed in a future version. To read from a literal string, wrap it in a 'StringIO' object.\n",
      "  new_tables = pd.read_html(new_html, index_col=None, header=0)\n"
     ]
    },
    {
     "name": "stdout",
     "output_type": "stream",
     "text": [
      "Scraping page 5\n",
      "https://www.tdlr.texas.gov/tools_search/mccs_search_process.asp?page=7&stype=name&ls_temp=Wreck&ls_carrier_type=DBA\n",
      "Scraping page 6\n",
      "https://www.tdlr.texas.gov/tools_search/mccs_search_process.asp?page=8&stype=name&ls_temp=Wreck&ls_carrier_type=DBA\n"
     ]
    },
    {
     "name": "stderr",
     "output_type": "stream",
     "text": [
      "/var/folders/st/3g_y2gzx2qlcw80sfz6hkjk00000gn/T/ipykernel_48122/1570807218.py:7: FutureWarning: Passing literal html to 'read_html' is deprecated and will be removed in a future version. To read from a literal string, wrap it in a 'StringIO' object.\n",
      "  new_tables = pd.read_html(new_html, index_col=None, header=0)\n",
      "/var/folders/st/3g_y2gzx2qlcw80sfz6hkjk00000gn/T/ipykernel_48122/1570807218.py:7: FutureWarning: Passing literal html to 'read_html' is deprecated and will be removed in a future version. To read from a literal string, wrap it in a 'StringIO' object.\n",
      "  new_tables = pd.read_html(new_html, index_col=None, header=0)\n"
     ]
    },
    {
     "name": "stdout",
     "output_type": "stream",
     "text": [
      "Scraping page 7\n",
      "https://www.tdlr.texas.gov/tools_search/mccs_search_process.asp?page=9&stype=name&ls_temp=Wreck&ls_carrier_type=DBA\n",
      "Scraping page 8\n",
      "https://www.tdlr.texas.gov/tools_search/mccs_search_process.asp?page=10&stype=name&ls_temp=Wreck&ls_carrier_type=DBA\n"
     ]
    },
    {
     "name": "stderr",
     "output_type": "stream",
     "text": [
      "/var/folders/st/3g_y2gzx2qlcw80sfz6hkjk00000gn/T/ipykernel_48122/1570807218.py:7: FutureWarning: Passing literal html to 'read_html' is deprecated and will be removed in a future version. To read from a literal string, wrap it in a 'StringIO' object.\n",
      "  new_tables = pd.read_html(new_html, index_col=None, header=0)\n",
      "/var/folders/st/3g_y2gzx2qlcw80sfz6hkjk00000gn/T/ipykernel_48122/1570807218.py:7: FutureWarning: Passing literal html to 'read_html' is deprecated and will be removed in a future version. To read from a literal string, wrap it in a 'StringIO' object.\n",
      "  new_tables = pd.read_html(new_html, index_col=None, header=0)\n"
     ]
    },
    {
     "name": "stdout",
     "output_type": "stream",
     "text": [
      "Scraping page 9\n",
      "https://www.tdlr.texas.gov/tools_search/mccs_search_process.asp?page=11&stype=name&ls_temp=Wreck&ls_carrier_type=DBA\n",
      "Scraping page 10\n",
      "https://www.tdlr.texas.gov/tools_search/mccs_search_process.asp?page=12&stype=name&ls_temp=Wreck&ls_carrier_type=DBA\n"
     ]
    },
    {
     "name": "stderr",
     "output_type": "stream",
     "text": [
      "/var/folders/st/3g_y2gzx2qlcw80sfz6hkjk00000gn/T/ipykernel_48122/1570807218.py:7: FutureWarning: Passing literal html to 'read_html' is deprecated and will be removed in a future version. To read from a literal string, wrap it in a 'StringIO' object.\n",
      "  new_tables = pd.read_html(new_html, index_col=None, header=0)\n",
      "/var/folders/st/3g_y2gzx2qlcw80sfz6hkjk00000gn/T/ipykernel_48122/1570807218.py:7: FutureWarning: Passing literal html to 'read_html' is deprecated and will be removed in a future version. To read from a literal string, wrap it in a 'StringIO' object.\n",
      "  new_tables = pd.read_html(new_html, index_col=None, header=0)\n"
     ]
    },
    {
     "name": "stdout",
     "output_type": "stream",
     "text": [
      "Scraping page 11\n",
      "https://www.tdlr.texas.gov/tools_search/mccs_search_process.asp?page=13&stype=name&ls_temp=Wreck&ls_carrier_type=DBA\n",
      "Scraping page 12\n",
      "https://www.tdlr.texas.gov/tools_search/mccs_search_process.asp?page=14&stype=name&ls_temp=Wreck&ls_carrier_type=DBA\n"
     ]
    },
    {
     "name": "stderr",
     "output_type": "stream",
     "text": [
      "/var/folders/st/3g_y2gzx2qlcw80sfz6hkjk00000gn/T/ipykernel_48122/1570807218.py:7: FutureWarning: Passing literal html to 'read_html' is deprecated and will be removed in a future version. To read from a literal string, wrap it in a 'StringIO' object.\n",
      "  new_tables = pd.read_html(new_html, index_col=None, header=0)\n",
      "/var/folders/st/3g_y2gzx2qlcw80sfz6hkjk00000gn/T/ipykernel_48122/1570807218.py:7: FutureWarning: Passing literal html to 'read_html' is deprecated and will be removed in a future version. To read from a literal string, wrap it in a 'StringIO' object.\n",
      "  new_tables = pd.read_html(new_html, index_col=None, header=0)\n"
     ]
    },
    {
     "name": "stdout",
     "output_type": "stream",
     "text": [
      "Scraping page 13\n",
      "https://www.tdlr.texas.gov/tools_search/mccs_search_process.asp?page=15&stype=name&ls_temp=Wreck&ls_carrier_type=DBA\n",
      "Scraping page 14\n",
      "https://www.tdlr.texas.gov/tools_search/mccs_search_process.asp?page=16&stype=name&ls_temp=Wreck&ls_carrier_type=DBA\n"
     ]
    },
    {
     "name": "stderr",
     "output_type": "stream",
     "text": [
      "/var/folders/st/3g_y2gzx2qlcw80sfz6hkjk00000gn/T/ipykernel_48122/1570807218.py:7: FutureWarning: Passing literal html to 'read_html' is deprecated and will be removed in a future version. To read from a literal string, wrap it in a 'StringIO' object.\n",
      "  new_tables = pd.read_html(new_html, index_col=None, header=0)\n",
      "/var/folders/st/3g_y2gzx2qlcw80sfz6hkjk00000gn/T/ipykernel_48122/1570807218.py:7: FutureWarning: Passing literal html to 'read_html' is deprecated and will be removed in a future version. To read from a literal string, wrap it in a 'StringIO' object.\n",
      "  new_tables = pd.read_html(new_html, index_col=None, header=0)\n"
     ]
    },
    {
     "name": "stdout",
     "output_type": "stream",
     "text": [
      "Scraping page 15\n",
      "https://www.tdlr.texas.gov/tools_search/mccs_search_process.asp?page=17&stype=name&ls_temp=Wreck&ls_carrier_type=DBA\n",
      "Scraping page 16\n",
      "https://www.tdlr.texas.gov/tools_search/mccs_search_process.asp?page=18&stype=name&ls_temp=Wreck&ls_carrier_type=DBA\n"
     ]
    },
    {
     "name": "stderr",
     "output_type": "stream",
     "text": [
      "/var/folders/st/3g_y2gzx2qlcw80sfz6hkjk00000gn/T/ipykernel_48122/1570807218.py:7: FutureWarning: Passing literal html to 'read_html' is deprecated and will be removed in a future version. To read from a literal string, wrap it in a 'StringIO' object.\n",
      "  new_tables = pd.read_html(new_html, index_col=None, header=0)\n",
      "/var/folders/st/3g_y2gzx2qlcw80sfz6hkjk00000gn/T/ipykernel_48122/1570807218.py:7: FutureWarning: Passing literal html to 'read_html' is deprecated and will be removed in a future version. To read from a literal string, wrap it in a 'StringIO' object.\n",
      "  new_tables = pd.read_html(new_html, index_col=None, header=0)\n"
     ]
    },
    {
     "name": "stdout",
     "output_type": "stream",
     "text": [
      "Scraping page 17\n",
      "https://www.tdlr.texas.gov/tools_search/mccs_search_process.asp?page=19&stype=name&ls_temp=Wreck&ls_carrier_type=DBA\n",
      "Scraping page 18\n",
      "https://www.tdlr.texas.gov/tools_search/mccs_search_process.asp?page=20&stype=name&ls_temp=Wreck&ls_carrier_type=DBA\n"
     ]
    },
    {
     "name": "stderr",
     "output_type": "stream",
     "text": [
      "/var/folders/st/3g_y2gzx2qlcw80sfz6hkjk00000gn/T/ipykernel_48122/1570807218.py:7: FutureWarning: Passing literal html to 'read_html' is deprecated and will be removed in a future version. To read from a literal string, wrap it in a 'StringIO' object.\n",
      "  new_tables = pd.read_html(new_html, index_col=None, header=0)\n",
      "/var/folders/st/3g_y2gzx2qlcw80sfz6hkjk00000gn/T/ipykernel_48122/1570807218.py:7: FutureWarning: Passing literal html to 'read_html' is deprecated and will be removed in a future version. To read from a literal string, wrap it in a 'StringIO' object.\n",
      "  new_tables = pd.read_html(new_html, index_col=None, header=0)\n"
     ]
    },
    {
     "name": "stdout",
     "output_type": "stream",
     "text": [
      "Scraping page 19\n",
      "https://www.tdlr.texas.gov/tools_search/mccs_search_process.asp?page=21&stype=name&ls_temp=Wreck&ls_carrier_type=DBA\n",
      "Scraping page 20\n",
      "https://www.tdlr.texas.gov/tools_search/mccs_search_process.asp?page=22&stype=name&ls_temp=Wreck&ls_carrier_type=DBA\n"
     ]
    },
    {
     "name": "stderr",
     "output_type": "stream",
     "text": [
      "/var/folders/st/3g_y2gzx2qlcw80sfz6hkjk00000gn/T/ipykernel_48122/1570807218.py:7: FutureWarning: Passing literal html to 'read_html' is deprecated and will be removed in a future version. To read from a literal string, wrap it in a 'StringIO' object.\n",
      "  new_tables = pd.read_html(new_html, index_col=None, header=0)\n",
      "/var/folders/st/3g_y2gzx2qlcw80sfz6hkjk00000gn/T/ipykernel_48122/1570807218.py:7: FutureWarning: Passing literal html to 'read_html' is deprecated and will be removed in a future version. To read from a literal string, wrap it in a 'StringIO' object.\n",
      "  new_tables = pd.read_html(new_html, index_col=None, header=0)\n"
     ]
    },
    {
     "name": "stdout",
     "output_type": "stream",
     "text": [
      "Scraping page 21\n",
      "https://www.tdlr.texas.gov/tools_search/mccs_search_process.asp?page=23&stype=name&ls_temp=Wreck&ls_carrier_type=DBA\n",
      "Scraping page 22\n",
      "https://www.tdlr.texas.gov/tools_search/mccs_search_process.asp?page=24&stype=name&ls_temp=Wreck&ls_carrier_type=DBA\n"
     ]
    },
    {
     "name": "stderr",
     "output_type": "stream",
     "text": [
      "/var/folders/st/3g_y2gzx2qlcw80sfz6hkjk00000gn/T/ipykernel_48122/1570807218.py:7: FutureWarning: Passing literal html to 'read_html' is deprecated and will be removed in a future version. To read from a literal string, wrap it in a 'StringIO' object.\n",
      "  new_tables = pd.read_html(new_html, index_col=None, header=0)\n",
      "/var/folders/st/3g_y2gzx2qlcw80sfz6hkjk00000gn/T/ipykernel_48122/1570807218.py:7: FutureWarning: Passing literal html to 'read_html' is deprecated and will be removed in a future version. To read from a literal string, wrap it in a 'StringIO' object.\n",
      "  new_tables = pd.read_html(new_html, index_col=None, header=0)\n"
     ]
    },
    {
     "name": "stdout",
     "output_type": "stream",
     "text": [
      "Scraping page 23\n",
      "https://www.tdlr.texas.gov/tools_search/mccs_search_process.asp?page=25&stype=name&ls_temp=Wreck&ls_carrier_type=DBA\n",
      "Scraping page 24\n",
      "https://www.tdlr.texas.gov/tools_search/mccs_search_process.asp?page=26&stype=name&ls_temp=Wreck&ls_carrier_type=DBA\n"
     ]
    },
    {
     "name": "stderr",
     "output_type": "stream",
     "text": [
      "/var/folders/st/3g_y2gzx2qlcw80sfz6hkjk00000gn/T/ipykernel_48122/1570807218.py:7: FutureWarning: Passing literal html to 'read_html' is deprecated and will be removed in a future version. To read from a literal string, wrap it in a 'StringIO' object.\n",
      "  new_tables = pd.read_html(new_html, index_col=None, header=0)\n",
      "/var/folders/st/3g_y2gzx2qlcw80sfz6hkjk00000gn/T/ipykernel_48122/1570807218.py:7: FutureWarning: Passing literal html to 'read_html' is deprecated and will be removed in a future version. To read from a literal string, wrap it in a 'StringIO' object.\n",
      "  new_tables = pd.read_html(new_html, index_col=None, header=0)\n"
     ]
    },
    {
     "name": "stdout",
     "output_type": "stream",
     "text": [
      "Scraping page 25\n",
      "https://www.tdlr.texas.gov/tools_search/mccs_search_process.asp?page=27&stype=name&ls_temp=Wreck&ls_carrier_type=DBA\n",
      "Scraping page 26\n",
      "https://www.tdlr.texas.gov/tools_search/mccs_search_process.asp?page=28&stype=name&ls_temp=Wreck&ls_carrier_type=DBA\n"
     ]
    },
    {
     "name": "stderr",
     "output_type": "stream",
     "text": [
      "/var/folders/st/3g_y2gzx2qlcw80sfz6hkjk00000gn/T/ipykernel_48122/1570807218.py:7: FutureWarning: Passing literal html to 'read_html' is deprecated and will be removed in a future version. To read from a literal string, wrap it in a 'StringIO' object.\n",
      "  new_tables = pd.read_html(new_html, index_col=None, header=0)\n",
      "/var/folders/st/3g_y2gzx2qlcw80sfz6hkjk00000gn/T/ipykernel_48122/1570807218.py:7: FutureWarning: Passing literal html to 'read_html' is deprecated and will be removed in a future version. To read from a literal string, wrap it in a 'StringIO' object.\n",
      "  new_tables = pd.read_html(new_html, index_col=None, header=0)\n"
     ]
    },
    {
     "name": "stdout",
     "output_type": "stream",
     "text": [
      "Scraping page 27\n",
      "https://www.tdlr.texas.gov/tools_search/mccs_search_process.asp?page=29&stype=name&ls_temp=Wreck&ls_carrier_type=DBA\n",
      "Scraping page 28\n",
      "https://www.tdlr.texas.gov/tools_search/mccs_search_process.asp?page=30&stype=name&ls_temp=Wreck&ls_carrier_type=DBA\n"
     ]
    },
    {
     "name": "stderr",
     "output_type": "stream",
     "text": [
      "/var/folders/st/3g_y2gzx2qlcw80sfz6hkjk00000gn/T/ipykernel_48122/1570807218.py:7: FutureWarning: Passing literal html to 'read_html' is deprecated and will be removed in a future version. To read from a literal string, wrap it in a 'StringIO' object.\n",
      "  new_tables = pd.read_html(new_html, index_col=None, header=0)\n",
      "/var/folders/st/3g_y2gzx2qlcw80sfz6hkjk00000gn/T/ipykernel_48122/1570807218.py:7: FutureWarning: Passing literal html to 'read_html' is deprecated and will be removed in a future version. To read from a literal string, wrap it in a 'StringIO' object.\n",
      "  new_tables = pd.read_html(new_html, index_col=None, header=0)\n"
     ]
    },
    {
     "name": "stdout",
     "output_type": "stream",
     "text": [
      "Scraping page 29\n",
      "https://www.tdlr.texas.gov/tools_search/mccs_search_process.asp?page=31&stype=name&ls_temp=Wreck&ls_carrier_type=DBA\n",
      "Scraping page 30\n",
      "https://www.tdlr.texas.gov/tools_search/mccs_search_process.asp?page=32&stype=name&ls_temp=Wreck&ls_carrier_type=DBA\n"
     ]
    },
    {
     "name": "stderr",
     "output_type": "stream",
     "text": [
      "/var/folders/st/3g_y2gzx2qlcw80sfz6hkjk00000gn/T/ipykernel_48122/1570807218.py:7: FutureWarning: Passing literal html to 'read_html' is deprecated and will be removed in a future version. To read from a literal string, wrap it in a 'StringIO' object.\n",
      "  new_tables = pd.read_html(new_html, index_col=None, header=0)\n",
      "/var/folders/st/3g_y2gzx2qlcw80sfz6hkjk00000gn/T/ipykernel_48122/1570807218.py:7: FutureWarning: Passing literal html to 'read_html' is deprecated and will be removed in a future version. To read from a literal string, wrap it in a 'StringIO' object.\n",
      "  new_tables = pd.read_html(new_html, index_col=None, header=0)\n"
     ]
    },
    {
     "name": "stdout",
     "output_type": "stream",
     "text": [
      "Scraping page 31\n",
      "https://www.tdlr.texas.gov/tools_search/mccs_search_process.asp?page=33&stype=name&ls_temp=Wreck&ls_carrier_type=DBA\n",
      "Scraping page 32\n",
      "https://www.tdlr.texas.gov/tools_search/mccs_search_process.asp?page=34&stype=name&ls_temp=Wreck&ls_carrier_type=DBA\n"
     ]
    },
    {
     "name": "stderr",
     "output_type": "stream",
     "text": [
      "/var/folders/st/3g_y2gzx2qlcw80sfz6hkjk00000gn/T/ipykernel_48122/1570807218.py:7: FutureWarning: Passing literal html to 'read_html' is deprecated and will be removed in a future version. To read from a literal string, wrap it in a 'StringIO' object.\n",
      "  new_tables = pd.read_html(new_html, index_col=None, header=0)\n"
     ]
    }
   ],
   "source": [
    "for page_num in range(33):\n",
    "    temp_url = 'https://www.tdlr.texas.gov/tools_search/' + urls[page_num]\n",
    "    print(\"Scraping page\", page_num)\n",
    "    print(temp_url)\n",
    "    await page.goto(temp_url)\n",
    "    new_html = await page.content()\n",
    "    new_tables = pd.read_html(new_html, index_col=None, header=0)\n",
    "\n",
    "    all_dfs.append(new_tables[2])\n",
    "    \n",
    "    # print(all_dfs)\n",
    "    # Scrape scrape scrape\n",
    "    # Scrape scrape scrape\n",
    "    # Always adding to the 'rows' variable\n",
    "\n",
    "results = pd.concat(all_dfs)"
   ]
  },
  {
   "cell_type": "code",
   "execution_count": 74,
   "metadata": {},
   "outputs": [
    {
     "data": {
      "text/html": [
       "<div>\n",
       "<style scoped>\n",
       "    .dataframe tbody tr th:only-of-type {\n",
       "        vertical-align: middle;\n",
       "    }\n",
       "\n",
       "    .dataframe tbody tr th {\n",
       "        vertical-align: top;\n",
       "    }\n",
       "\n",
       "    .dataframe thead th {\n",
       "        text-align: right;\n",
       "    }\n",
       "</style>\n",
       "<table border=\"1\" class=\"dataframe\">\n",
       "  <thead>\n",
       "    <tr style=\"text-align: right;\">\n",
       "      <th></th>\n",
       "      <th>Customer</th>\n",
       "      <th>DBA Name</th>\n",
       "      <th>TDLR Number</th>\n",
       "      <th>City</th>\n",
       "      <th>State</th>\n",
       "      <th>Zip code</th>\n",
       "    </tr>\n",
       "  </thead>\n",
       "  <tbody>\n",
       "    <tr>\n",
       "      <th>18</th>\n",
       "      <td>WOLF CREEK SERVICE GROUP LLC</td>\n",
       "      <td>BIG BEAR WRECKER SERVICE</td>\n",
       "      <td>0659903VSF</td>\n",
       "      <td>CELESTE</td>\n",
       "      <td>TX</td>\n",
       "      <td>75423</td>\n",
       "    </tr>\n",
       "    <tr>\n",
       "      <th>19</th>\n",
       "      <td>WOLF CREEK SERVICE GROUP LLC</td>\n",
       "      <td>BIG BEAR WRECKER SERVICE</td>\n",
       "      <td>006592211C</td>\n",
       "      <td>CELESTE</td>\n",
       "      <td>TX</td>\n",
       "      <td>75423</td>\n",
       "    </tr>\n",
       "    <tr>\n",
       "      <th>0</th>\n",
       "      <td>WRECKER-LA GRUA LLC</td>\n",
       "      <td>THE WRECKER LA GRUA</td>\n",
       "      <td>006541309C</td>\n",
       "      <td>AUSTIN</td>\n",
       "      <td>TX</td>\n",
       "      <td>78747</td>\n",
       "    </tr>\n",
       "    <tr>\n",
       "      <th>1</th>\n",
       "      <td>YEIMY C PINEDA</td>\n",
       "      <td>ANOTHER LEVEL WRECKER</td>\n",
       "      <td>006542620C</td>\n",
       "      <td>ROSENBERG</td>\n",
       "      <td>TX</td>\n",
       "      <td>77471</td>\n",
       "    </tr>\n",
       "    <tr>\n",
       "      <th>2</th>\n",
       "      <td>YEIMY C PINEDA</td>\n",
       "      <td>ANOTHER LEVEL WRECKER</td>\n",
       "      <td>0654264VSF</td>\n",
       "      <td>ROSENBERG</td>\n",
       "      <td>TX</td>\n",
       "      <td>77471</td>\n",
       "    </tr>\n",
       "  </tbody>\n",
       "</table>\n",
       "</div>"
      ],
      "text/plain": [
       "                        Customer                  DBA Name TDLR Number  \\\n",
       "18  WOLF CREEK SERVICE GROUP LLC  BIG BEAR WRECKER SERVICE  0659903VSF   \n",
       "19  WOLF CREEK SERVICE GROUP LLC  BIG BEAR WRECKER SERVICE  006592211C   \n",
       "0            WRECKER-LA GRUA LLC       THE WRECKER LA GRUA  006541309C   \n",
       "1                 YEIMY C PINEDA     ANOTHER LEVEL WRECKER  006542620C   \n",
       "2                 YEIMY C PINEDA     ANOTHER LEVEL WRECKER  0654264VSF   \n",
       "\n",
       "         City State  Zip code  \n",
       "18    CELESTE    TX     75423  \n",
       "19    CELESTE    TX     75423  \n",
       "0      AUSTIN    TX     78747  \n",
       "1   ROSENBERG    TX     77471  \n",
       "2   ROSENBERG    TX     77471  "
      ]
     },
     "execution_count": 74,
     "metadata": {},
     "output_type": "execute_result"
    }
   ],
   "source": [
    "results.tail()"
   ]
  },
  {
   "cell_type": "markdown",
   "metadata": {},
   "source": [
    "### Cleanup\n",
    "\n",
    "If you haven't already, rename the columns to be:\n",
    "    \n",
    "    * Customer\n",
    "    * DBA Name\n",
    "    * TDLR Number\n",
    "    * City\n",
    "    * State\n",
    "    * Zip code\n",
    "\n",
    "and remove all of the rows where the customer name is `Customer`."
   ]
  },
  {
   "cell_type": "code",
   "execution_count": 76,
   "metadata": {},
   "outputs": [
    {
     "data": {
      "text/html": [
       "<div>\n",
       "<style scoped>\n",
       "    .dataframe tbody tr th:only-of-type {\n",
       "        vertical-align: middle;\n",
       "    }\n",
       "\n",
       "    .dataframe tbody tr th {\n",
       "        vertical-align: top;\n",
       "    }\n",
       "\n",
       "    .dataframe thead th {\n",
       "        text-align: right;\n",
       "    }\n",
       "</style>\n",
       "<table border=\"1\" class=\"dataframe\">\n",
       "  <thead>\n",
       "    <tr style=\"text-align: right;\">\n",
       "      <th></th>\n",
       "      <th>Customer</th>\n",
       "      <th>DBA Name</th>\n",
       "      <th>TDLR Number</th>\n",
       "      <th>City</th>\n",
       "      <th>State</th>\n",
       "      <th>Zip code</th>\n",
       "    </tr>\n",
       "  </thead>\n",
       "  <tbody>\n",
       "  </tbody>\n",
       "</table>\n",
       "</div>"
      ],
      "text/plain": [
       "Empty DataFrame\n",
       "Columns: [Customer, DBA Name, TDLR Number, City, State, Zip code]\n",
       "Index: []"
      ]
     },
     "execution_count": 76,
     "metadata": {},
     "output_type": "execute_result"
    }
   ],
   "source": []
  },
  {
   "cell_type": "code",
   "execution_count": null,
   "metadata": {},
   "outputs": [],
   "source": []
  },
  {
   "cell_type": "markdown",
   "metadata": {},
   "source": [
    "## Save as `wreckers.csv`"
   ]
  },
  {
   "cell_type": "code",
   "execution_count": 78,
   "metadata": {},
   "outputs": [],
   "source": [
    "results.to_csv(\"wreckers.csv\", index=False)"
   ]
  },
  {
   "cell_type": "markdown",
   "metadata": {},
   "source": [
    "# Part Two: Company info\n",
    "\n",
    "> You can use whatever tool you'd like for this, but form submission doesn't necessarily mean Playwright! If you want to go the `requests` route instead, feel free to [look at this page](https://jonathansoma.com/everything/scraping/pretending-to-be-a-browser/) about several ways to pretend to be a browser.\n",
    "\n",
    "## Step 1: Scraping one page\n",
    "\n",
    "Try searching from the [tools page](https://www.tdlr.texas.gov/tools_search/) for the TDLR Number `006556161C`. From the results page, scrape the:\n",
    "\n",
    "* Business name\n",
    "* Phone number\n",
    "* License status\n",
    "* Physical address\n",
    "\n",
    "And save the results into a dictionary. Also include `TDLR Number` in the dictionary. **Print the dictionary**.\n",
    "\n",
    "> ***Tip:** It's best if each item has its own key, but **it's fine to pull \"larger\" sections of the page and split them up in pandas later on***\n",
    ">\n",
    "> ***Tip:** Be sure you don't forget to include `TDLR Number` in the dictionary!*"
   ]
  },
  {
   "cell_type": "code",
   "execution_count": null,
   "metadata": {},
   "outputs": [],
   "source": []
  },
  {
   "cell_type": "code",
   "execution_count": null,
   "metadata": {},
   "outputs": [],
   "source": []
  },
  {
   "cell_type": "markdown",
   "metadata": {},
   "source": [
    "## Step 2: Move into one cell\n",
    "\n",
    "Move the code above all into one cell that relies on the variable `tdlr_number`.\n",
    "\n",
    "Add the code below to the page and confirm that it displays the data for the correct result.\n",
    "\n",
    "```python\n",
    "tdlr_number = '0654479VSF'\n",
    "```\n",
    "\n",
    "Confirm that the information is correct. Did it not work out? Go back and edit your selectors, or be a little broader in the parts of the page you sweep up."
   ]
  },
  {
   "cell_type": "code",
   "execution_count": null,
   "metadata": {},
   "outputs": [],
   "source": []
  },
  {
   "cell_type": "code",
   "execution_count": null,
   "metadata": {},
   "outputs": [],
   "source": []
  },
  {
   "cell_type": "markdown",
   "metadata": {},
   "source": [
    "## Step 3: Scraping many pages\n",
    "\n",
    "Using pandas, read in `trucks-subset.csv`."
   ]
  },
  {
   "cell_type": "code",
   "execution_count": null,
   "metadata": {},
   "outputs": [],
   "source": []
  },
  {
   "cell_type": "markdown",
   "metadata": {},
   "source": [
    "## Scrape every single row, creating a list of dictionaries from the scraped data.\n",
    "\n",
    "You should never use for loops with pandas *except when working with Playwright*. To use loops in pandas you'll make use of `.iterrows()`.\n",
    "\n",
    "The code below loops through a dataframe called `df` and prints out the `address` column.\n",
    "\n",
    "```python\n",
    "for index, row in df.iterrows():\n",
    "    print(row['address'])\n",
    "```\n",
    "\n",
    "You'll adapt this code to use your dataframe, and combine it with the scraping code you wrote above.\n",
    "\n",
    "> ***Tip:** This is like what we did for the townships in class*"
   ]
  },
  {
   "cell_type": "code",
   "execution_count": null,
   "metadata": {},
   "outputs": [],
   "source": []
  },
  {
   "cell_type": "code",
   "execution_count": null,
   "metadata": {},
   "outputs": [],
   "source": []
  },
  {
   "cell_type": "code",
   "execution_count": null,
   "metadata": {},
   "outputs": [],
   "source": []
  },
  {
   "cell_type": "code",
   "execution_count": null,
   "metadata": {},
   "outputs": [],
   "source": []
  },
  {
   "cell_type": "markdown",
   "metadata": {},
   "source": [
    "## Save your dataframe as `data-uncleaned.csv`"
   ]
  },
  {
   "cell_type": "code",
   "execution_count": null,
   "metadata": {},
   "outputs": [],
   "source": []
  },
  {
   "cell_type": "markdown",
   "metadata": {},
   "source": [
    "# Cleaning your data\n",
    "\n",
    "## Re-open the `data-uncleaned.csv` file\n",
    "\n",
    "You probably want to set `pd.options.display.max_colwidth`"
   ]
  },
  {
   "cell_type": "code",
   "execution_count": null,
   "metadata": {},
   "outputs": [],
   "source": []
  },
  {
   "cell_type": "markdown",
   "metadata": {},
   "source": [
    "## Clean it up!\n",
    "\n",
    "Make sure there are columns for\n",
    "\n",
    "- Business name\n",
    "- Phone number\n",
    "- License status\n",
    "- Physical address\n",
    "\n",
    "And drop all of the other columns (The easiest way is to use `df = df.drop(columns=[...])`)"
   ]
  },
  {
   "cell_type": "code",
   "execution_count": null,
   "metadata": {},
   "outputs": [],
   "source": []
  },
  {
   "cell_type": "code",
   "execution_count": null,
   "metadata": {},
   "outputs": [],
   "source": []
  },
  {
   "cell_type": "markdown",
   "metadata": {},
   "source": [
    "## Combine with the original CSV file\n",
    "\n",
    "To combine dataframes based on indexes, you use `df.join(other_df)`. If you'd prefer to match by columns, you could also use `df.merge(other_df, left_on='...', right_on='...')` and tell it the two columns that match between the two."
   ]
  },
  {
   "cell_type": "code",
   "execution_count": null,
   "metadata": {},
   "outputs": [],
   "source": []
  },
  {
   "cell_type": "code",
   "execution_count": null,
   "metadata": {},
   "outputs": [],
   "source": []
  },
  {
   "cell_type": "markdown",
   "metadata": {},
   "source": [
    "### Save to a CSV"
   ]
  },
  {
   "cell_type": "code",
   "execution_count": null,
   "metadata": {},
   "outputs": [],
   "source": []
  }
 ],
 "metadata": {
  "kernelspec": {
   "display_name": "Python 3 (ipykernel)",
   "language": "python",
   "name": "python3"
  },
  "language_info": {
   "codemirror_mode": {
    "name": "ipython",
    "version": 3
   },
   "file_extension": ".py",
   "mimetype": "text/x-python",
   "name": "python",
   "nbconvert_exporter": "python",
   "pygments_lexer": "ipython3",
   "version": "3.11.6"
  }
 },
 "nbformat": 4,
 "nbformat_minor": 4
}
